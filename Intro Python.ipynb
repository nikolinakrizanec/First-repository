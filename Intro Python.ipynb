{
 "cells": [
  {
   "cell_type": "markdown",
   "metadata": {},
   "source": [
    "# Welcome to Service Management Analytics\n",
    "## Notebook Learning PYTHON\n",
    "This tool is called 'Jupyter Notebook' and serves to partially execute the code in an orderly manner."
   ]
  },
  {
   "cell_type": "markdown",
   "metadata": {},
   "source": [
    " There are several hotkeys for which we will make a brief summary: \n",
    "* When the block is blue, we can use '**a**' (above) or '**b**' (below) to add a new block where to put code (respectively above or below the current one).\n",
    "* To select / deselect a block, we can use '**Enter**' or '**Esc**'.\n",
    "* We can move between blocks with the **UP **, **DOWN** flasks.\n",
    "* To run the code and not move the block can be done with **CTRL + ENTER**, to run it and move to the next block use **SHIFT + ENTER**.\n",
    "* To save the notebook can be done with **CTRL + S**."
   ]
  },
  {
   "cell_type": "markdown",
   "metadata": {},
   "source": [
    "## Index\n",
    "* [Some usefull tips](#Some usefull tips)\n",
    "* [Operations](#Operations)\n",
    "* [Iterative and conditional cycles](#Iterative and conditional cycles)\n",
    "* [Inclusive and exclusive conditions (and, or, not)](#Inclusive and exclusive conditions (and, or, not))\n",
    "* [Imports](#Imports)\n",
    "* [Handling days](#Handling days)\n",
    "* [Set Theory in Python](#Set Theory in Python)\n",
    "    * [Sets](#Sets)\n",
    "    * [Lists](#Lists)\n",
    "    * [Dictionaries](#Dictionaries)\n",
    "* [Defining functions and classes](#Defining functions and classes)\n",
    "    * [Functions](#Functions)\n",
    "    * [Classes](#Classes)"
   ]
  },
  {
   "cell_type": "markdown",
   "metadata": {},
   "source": [
    "Usefull links: \n",
    "*    [The Python Standard Library](https://docs.python.org/3/library/) \n",
    "*    [codecademy](www.codecademy.com/learn/learn-python)"
   ]
  },
  {
   "cell_type": "markdown",
   "metadata": {},
   "source": [
    "<a id='Some usefull tips'></a>\n",
    "## Some usefull tips"
   ]
  },
  {
   "cell_type": "markdown",
   "metadata": {},
   "source": [
    "* Quotation marks"
   ]
  },
  {
   "cell_type": "code",
   "execution_count": 1,
   "metadata": {},
   "outputs": [
    {
     "data": {
      "text/plain": [
       "'Hello world!'"
      ]
     },
     "execution_count": 1,
     "metadata": {},
     "output_type": "execute_result"
    }
   ],
   "source": [
    "\"Hello world!\"    "
   ]
  },
  {
   "cell_type": "code",
   "execution_count": 2,
   "metadata": {
    "scrolled": true
   },
   "outputs": [
    {
     "name": "stdout",
     "output_type": "stream",
     "text": [
      "Hello\n",
      "world\n",
      "!\n"
     ]
    }
   ],
   "source": [
    "print(\"\"\"Hello\n",
    "world\n",
    "!\"\"\")"
   ]
  },
  {
   "cell_type": "markdown",
   "metadata": {},
   "source": [
    "* You can comment lines using ** # **. Commented lines do not run."
   ]
  },
  {
   "cell_type": "code",
   "execution_count": 3,
   "metadata": {},
   "outputs": [
    {
     "name": "stdout",
     "output_type": "stream",
     "text": [
      "17\n"
     ]
    }
   ],
   "source": [
    "# Let's add two numbers:\n",
    "a = 5\n",
    "b = 12\n",
    "sum = a + b\n",
    "# Let's print the result:\n",
    "print(sum)"
   ]
  },
  {
   "cell_type": "markdown",
   "metadata": {},
   "source": [
    "* Restricted variable name (green color)"
   ]
  },
  {
   "cell_type": "code",
   "execution_count": 7,
   "metadata": {},
   "outputs": [
    {
     "ename": "TypeError",
     "evalue": "'int' object is not callable",
     "output_type": "error",
     "traceback": [
      "\u001b[1;31m---------------------------------------------------------------------------\u001b[0m",
      "\u001b[1;31mTypeError\u001b[0m                                 Traceback (most recent call last)",
      "\u001b[1;32m<ipython-input-7-b7d5db8859f8>\u001b[0m in \u001b[0;36m<module>\u001b[1;34m()\u001b[0m\n\u001b[0;32m      1\u001b[0m \u001b[0mprint\u001b[0m \u001b[1;33m=\u001b[0m \u001b[1;36m2\u001b[0m\u001b[1;33m\u001b[0m\u001b[0m\n\u001b[1;32m----> 2\u001b[1;33m \u001b[0mprint\u001b[0m\u001b[1;33m(\u001b[0m\u001b[1;36m5\u001b[0m\u001b[1;33m)\u001b[0m\u001b[1;33m\u001b[0m\u001b[0m\n\u001b[0m",
      "\u001b[1;31mTypeError\u001b[0m: 'int' object is not callable"
     ]
    }
   ],
   "source": [
    "print = 2\n",
    "print(5)"
   ]
  },
  {
   "cell_type": "markdown",
   "metadata": {},
   "source": [
    "<div class=\"alert alert-danger\" role=\"alert\">\n",
    "  ** Warning: **  Since we store a value in **variable** called print, the **function** print is broken. Please, restart the notbook and do not run last cell. Then try the next cell\n",
    "</div>"
   ]
  },
  {
   "cell_type": "code",
   "execution_count": 4,
   "metadata": {},
   "outputs": [
    {
     "name": "stdout",
     "output_type": "stream",
     "text": [
      "3\n"
     ]
    }
   ],
   "source": [
    "print(3)"
   ]
  },
  {
   "cell_type": "markdown",
   "metadata": {},
   "source": [
    "<a id='Operations'></a>\n",
    "## Operations\n",
    "* Operations can be performed and the results are displayed using the **print()** command."
   ]
  },
  {
   "cell_type": "code",
   "execution_count": 5,
   "metadata": {
    "scrolled": true
   },
   "outputs": [
    {
     "data": {
      "text/plain": [
       "5"
      ]
     },
     "execution_count": 5,
     "metadata": {},
     "output_type": "execute_result"
    }
   ],
   "source": [
    "3 + 2"
   ]
  },
  {
   "cell_type": "markdown",
   "metadata": {},
   "source": [
    "* We can assign values to variables and make calculations with them."
   ]
  },
  {
   "cell_type": "code",
   "execution_count": 6,
   "metadata": {},
   "outputs": [
    {
     "name": "stdout",
     "output_type": "stream",
     "text": [
      "\tValue of x is 16\n"
     ]
    }
   ],
   "source": [
    "x = 2 ** 3\n",
    "x *= 2\n",
    "print('\\tValue of x is', x)"
   ]
  },
  {
   "cell_type": "markdown",
   "metadata": {},
   "source": [
    "<div class=\"alert alert-info\" role=\"alert\">\n",
    "    **Exercise:** Calculate **x * 2** using operator ** += **.\n",
    "</div>"
   ]
  },
  {
   "cell_type": "markdown",
   "metadata": {},
   "source": [
    "* The print function does not allow printing certain symbols as **'**, to do so, we have to put ** \\** before the simbol.\n",
    "* In the print function, **\\n** generates a line break in the print and **\\t** tab."
   ]
  },
  {
   "cell_type": "code",
   "execution_count": 7,
   "metadata": {},
   "outputs": [
    {
     "name": "stdout",
     "output_type": "stream",
     "text": [
      "Result is 4.0\n"
     ]
    }
   ],
   "source": [
    "x = x * 2 /8\n",
    "print('Result is', x)"
   ]
  },
  {
   "cell_type": "code",
   "execution_count": 8,
   "metadata": {
    "scrolled": false
   },
   "outputs": [
    {
     "name": "stdout",
     "output_type": "stream",
     "text": [
      "----'----/----\\----'----\n",
      "x is = -6.0 \n",
      "y is = 4.0\n"
     ]
    }
   ],
   "source": [
    "print('----\\'----/----\\\\----\\'----')\n",
    "\n",
    "x = x - 10 \n",
    "y = x + 10\n",
    "print('x is = {} \\ny is = {}'.format(x, y))"
   ]
  },
  {
   "cell_type": "code",
   "execution_count": 9,
   "metadata": {
    "scrolled": true
   },
   "outputs": [
    {
     "name": "stdout",
     "output_type": "stream",
     "text": [
      "Hello Nikolina, welcome to BaseTIS.\n",
      "Hello Nikolina, welcome to BaseTIS.\n"
     ]
    }
   ],
   "source": [
    "print(\"Hello {}, welcome to {}.\".format(\"Nikolina\", \"BaseTIS\"))\n",
    "print(\"Hello {name}, welcome to {company}.\".format(company=\"BaseTIS\", name=\"Nikolina\"))"
   ]
  },
  {
   "cell_type": "markdown",
   "metadata": {},
   "source": [
    "* Beside the variable name, in the brackets **{}** we can put expected format also."
   ]
  },
  {
   "cell_type": "code",
   "execution_count": 10,
   "metadata": {},
   "outputs": [
    {
     "name": "stdout",
     "output_type": "stream",
     "text": [
      "I work in BaseTIS 150.00 days.\n"
     ]
    }
   ],
   "source": [
    "print(\"I work in BaseTIS {days:.2f} days.\".format(days=150))"
   ]
  },
  {
   "cell_type": "markdown",
   "metadata": {},
   "source": [
    "<div class=\"alert alert-info\" role=\"alert\">\n",
    "    **Exercise:** Show on screen, meaning of the **print()** command, 5 to the fourth power.\n",
    "</div>"
   ]
  },
  {
   "cell_type": "markdown",
   "metadata": {},
   "source": [
    "* The module operation can become very important. Returns the rest by dividing between two numbers."
   ]
  },
  {
   "cell_type": "code",
   "execution_count": 11,
   "metadata": {},
   "outputs": [
    {
     "name": "stdout",
     "output_type": "stream",
     "text": [
      "1\n",
      "4\n",
      "100 module 5 is 0\n"
     ]
    }
   ],
   "source": [
    "x = 10 % 3\n",
    "print(x)\n",
    "print(100 % 6)\n",
    "print('100 module 5 is', 100 % 5)"
   ]
  },
  {
   "cell_type": "markdown",
   "metadata": {},
   "source": [
    "<div class=\"alert alert-info\" role=\"alert\">\n",
    "    **Exercise:** Calculate 1000 modulo 26 and print the result.\n",
    "</div>"
   ]
  },
  {
   "cell_type": "markdown",
   "metadata": {},
   "source": [
    "* You can also do operations with strings or **'words'**. "
   ]
  },
  {
   "cell_type": "code",
   "execution_count": 12,
   "metadata": {},
   "outputs": [
    {
     "name": "stdout",
     "output_type": "stream",
     "text": [
      "This is one sentence.\n",
      "one\n",
      "sentence.\n",
      "his is one sentence.sentence.\n",
      "oneoneone\n"
     ]
    }
   ],
   "source": [
    "string1 = 'This is one sentence.'\n",
    "string2 = string1[0:20]\n",
    "string3 = string1[:]\n",
    "string4 = string1[8:11]\n",
    "string5 = string1[1:]\n",
    "string6 = string1[-9:]\n",
    "\n",
    "print(string3)\n",
    "print(string4)\n",
    "print(string6)\n",
    "print(string5 + string6)\n",
    "print(string4 * 3)"
   ]
  },
  {
   "cell_type": "markdown",
   "metadata": {},
   "source": [
    "<div class=\"alert alert-info\" role=\"alert\">\n",
    "    **Exercise:** Print word 'like' from sentence 'I like Python.'\n",
    "</div>"
   ]
  },
  {
   "cell_type": "markdown",
   "metadata": {},
   "source": [
    "<a id='Iterative and conditional cycles'></a>\n",
    "## Iterative and conditional cycles\n",
    "* Iterations and conditionals without keys or parentheses."
   ]
  },
  {
   "cell_type": "code",
   "execution_count": 13,
   "metadata": {},
   "outputs": [
    {
     "name": "stdout",
     "output_type": "stream",
     "text": [
      "five\n"
     ]
    }
   ],
   "source": [
    "spam = 7\n",
    "if spam > 5:\n",
    "    print('five')\n",
    "if spam > 8:\n",
    "    print('eight')\n",
    "    "
   ]
  },
  {
   "cell_type": "code",
   "execution_count": 14,
   "metadata": {},
   "outputs": [
    {
     "name": "stdout",
     "output_type": "stream",
     "text": [
      "five\n",
      "ten\n"
     ]
    }
   ],
   "source": [
    "spam = 7\n",
    "if spam > 5:\n",
    "    print('five')\n",
    "if spam > 8:\n",
    "    print('eight')\n",
    "if spam < 10:\n",
    "    print('ten')"
   ]
  },
  {
   "cell_type": "code",
   "execution_count": 15,
   "metadata": {},
   "outputs": [
    {
     "name": "stdout",
     "output_type": "stream",
     "text": [
      "3\n"
     ]
    }
   ],
   "source": [
    "num = 7\n",
    "if num > 3:\n",
    "    print('3')\n",
    "    if num < 5:\n",
    "        print('5')\n",
    "        if num == 7:\n",
    "            print('7')"
   ]
  },
  {
   "cell_type": "code",
   "execution_count": 16,
   "metadata": {},
   "outputs": [
    {
     "name": "stdout",
     "output_type": "stream",
     "text": [
      "x is not 10\n"
     ]
    }
   ],
   "source": [
    "if x == 10:\n",
    "    print('x is 10')\n",
    "else: \n",
    "    print('x is not 10')"
   ]
  },
  {
   "cell_type": "code",
   "execution_count": 17,
   "metadata": {},
   "outputs": [
    {
     "name": "stdout",
     "output_type": "stream",
     "text": [
      "x is not 10 nor 30\n"
     ]
    }
   ],
   "source": [
    "if x == 10:\n",
    "    print('x is 10')\n",
    "elif x == 30:\n",
    "    print('x is 30')\n",
    "else:\n",
    "    print('x is not 10 nor 30')"
   ]
  },
  {
   "cell_type": "markdown",
   "metadata": {},
   "source": [
    "<div class=\"alert alert-info\" role=\"alert\">\n",
    "    **Exercise:** Write short code using **if**, **elif** and **else** statements.\n",
    "</div>"
   ]
  },
  {
   "cell_type": "markdown",
   "metadata": {},
   "source": [
    "<a id='Inclusive and exclusive conditions (and, or, not)'></a>\n",
    "## Inclusive and exclusive conditions (and, or, not)\n",
    "* When more than one condition, parenthesis is needed."
   ]
  },
  {
   "cell_type": "code",
   "execution_count": 18,
   "metadata": {},
   "outputs": [
    {
     "name": "stdout",
     "output_type": "stream",
     "text": [
      "x is not 200 or is negative\n",
      "-------------------\n",
      "x is 1\n"
     ]
    }
   ],
   "source": [
    "if (x > 0) and (x == 200):\n",
    "    print('x is 200')\n",
    "else:\n",
    "    print('x is not 200 or is negative')\n",
    "    \n",
    "print('-------------------')\n",
    "print('x is', x)    "
   ]
  },
  {
   "cell_type": "code",
   "execution_count": 19,
   "metadata": {},
   "outputs": [
    {
     "name": "stdout",
     "output_type": "stream",
     "text": [
      "x is not 50 or it's negative\n",
      "-------------------\n",
      "x is 1\n"
     ]
    }
   ],
   "source": [
    "if (x < 0) or (x != 50):\n",
    "    print('x is not 50 or it\\'s negative')\n",
    "else:\n",
    "    print('x is 50 or is positive')\n",
    "    \n",
    "print('-------------------')\n",
    "print('x is', x)"
   ]
  },
  {
   "cell_type": "markdown",
   "metadata": {},
   "source": [
    "* **for** iterations: "
   ]
  },
  {
   "cell_type": "code",
   "execution_count": 20,
   "metadata": {},
   "outputs": [
    {
     "name": "stdout",
     "output_type": "stream",
     "text": [
      "1\n",
      "2\n",
      "3\n",
      "4\n"
     ]
    }
   ],
   "source": [
    "for a in [1, 2, 3, 4]:\n",
    "    print(a)"
   ]
  },
  {
   "cell_type": "code",
   "execution_count": 21,
   "metadata": {},
   "outputs": [
    {
     "name": "stdout",
     "output_type": "stream",
     "text": [
      "1\n",
      "2\n",
      "3\n",
      "4\n"
     ]
    }
   ],
   "source": [
    "for a in range(1, 5):\n",
    "    print(a)"
   ]
  },
  {
   "cell_type": "code",
   "execution_count": 22,
   "metadata": {},
   "outputs": [
    {
     "name": "stdout",
     "output_type": "stream",
     "text": [
      "6\n"
     ]
    }
   ],
   "source": [
    "my_list = [1, 2, 3, 'word1', 'word2', [1, 2, 3]]\n",
    "print(len(my_list))"
   ]
  },
  {
   "cell_type": "markdown",
   "metadata": {},
   "source": [
    "<div class=\"alert alert-info\" role=\"alert\">\n",
    "    **Exercise:** Write short code using **for** statement.\n",
    "</div>"
   ]
  },
  {
   "cell_type": "markdown",
   "metadata": {},
   "source": [
    "* ** For ** can run in more than one variable evenly."
   ]
  },
  {
   "cell_type": "code",
   "execution_count": 23,
   "metadata": {},
   "outputs": [
    {
     "name": "stdout",
     "output_type": "stream",
     "text": [
      "x0\ty0\tz0\n",
      "x1\ty1\tz1\n",
      "x2\ty2\tz2\n",
      "x3\ty3\tz3\n"
     ]
    }
   ],
   "source": [
    "for x, y, z in zip(['x0', 'x1', 'x2', 'x3'], ['y0', 'y1', 'y2', 'y3'], ['z0', 'z1', 'z2', 'z3']):\n",
    "    print(\"{}\\t{}\\t{}\".format(x, y, z))"
   ]
  },
  {
   "cell_type": "markdown",
   "metadata": {},
   "source": [
    "* You can generate lists through statement for in the same line."
   ]
  },
  {
   "cell_type": "code",
   "execution_count": 24,
   "metadata": {},
   "outputs": [
    {
     "name": "stdout",
     "output_type": "stream",
     "text": [
      "['17', '20', '12', '15']\n",
      "['-10', 0, 0, 0, 0, '-7', '-10']\n"
     ]
    }
   ],
   "source": [
    "new_list = ['-10', '17', '20', '12', '15', '-7', '-10']\n",
    "\n",
    "print([x for x in new_list if int(x) > 0])\n",
    "print([x if int(x) < 0 else 0 for x in new_list])"
   ]
  },
  {
   "cell_type": "markdown",
   "metadata": {},
   "source": [
    "<div class=\"alert alert-info\" role=\"alert\">\n",
    "    **Exercise:** Print the list of all even numbers between 1 and 1000.\n",
    "</div>"
   ]
  },
  {
   "cell_type": "markdown",
   "metadata": {},
   "source": [
    "<a id='Imports'></a>\n",
    "## Imports\n",
    "* Import libraries that have useful functions as they are done in many object-oriented languages."
   ]
  },
  {
   "cell_type": "code",
   "execution_count": 25,
   "metadata": {},
   "outputs": [],
   "source": [
    "import pandas as pd\n",
    "import numpy as np\n",
    "import math as m  \n",
    "from datetime import datetime, timedelta, date"
   ]
  },
  {
   "cell_type": "code",
   "execution_count": 26,
   "metadata": {},
   "outputs": [
    {
     "data": {
      "text/plain": [
       "-1.0"
      ]
     },
     "execution_count": 26,
     "metadata": {},
     "output_type": "execute_result"
    }
   ],
   "source": [
    "from math import *\n",
    "cos(pi)"
   ]
  },
  {
   "cell_type": "markdown",
   "metadata": {},
   "source": [
    "<div class=\"alert alert-warning\" role=\"alert\">\n",
    "    **Warning:** importing everything from a module should be avoided since you can broke functions (like in the print example)\n",
    "</div>"
   ]
  },
  {
   "cell_type": "markdown",
   "metadata": {},
   "source": [
    "<a id='Handling days'></a>\n",
    "## Handling days\n",
    "* We use the libraries that we have imported."
   ]
  },
  {
   "cell_type": "code",
   "execution_count": 27,
   "metadata": {},
   "outputs": [
    {
     "name": "stdout",
     "output_type": "stream",
     "text": [
      "2018-07-05\n"
     ]
    }
   ],
   "source": [
    "today = date.today()\n",
    "print(today)"
   ]
  },
  {
   "cell_type": "code",
   "execution_count": 28,
   "metadata": {},
   "outputs": [
    {
     "name": "stdout",
     "output_type": "stream",
     "text": [
      "2018-07-05\n",
      "2018/07/05\n",
      "2018 07 05\n"
     ]
    }
   ],
   "source": [
    "for fmt in ['%Y-%m-%d', '%Y/%m/%d', '%Y %m %d']:\n",
    "    print(datetime.strftime(today, fmt))"
   ]
  },
  {
   "cell_type": "code",
   "execution_count": 29,
   "metadata": {},
   "outputs": [
    {
     "name": "stdout",
     "output_type": "stream",
     "text": [
      "2018-05\n",
      "07-05\n",
      "Thursday 05 July 2018\n"
     ]
    }
   ],
   "source": [
    "for my_format in ['%Y-%d', '%m-%d', '%A %d %B %Y']:\n",
    "    print(datetime.strftime(today, my_format))"
   ]
  },
  {
   "cell_type": "code",
   "execution_count": 30,
   "metadata": {},
   "outputs": [
    {
     "data": {
      "text/plain": [
       "['Thu', '05', 'July', 'Jul', '20', '2018', '18']"
      ]
     },
     "execution_count": 30,
     "metadata": {},
     "output_type": "execute_result"
    }
   ],
   "source": [
    "[datetime.strftime(today, x) for x in ['%a', '%d', '%B', '%b', '%C', '%Y', '%y']]"
   ]
  },
  {
   "cell_type": "code",
   "execution_count": 31,
   "metadata": {},
   "outputs": [
    {
     "name": "stdout",
     "output_type": "stream",
     "text": [
      "5\n",
      "7\n",
      "2018\n"
     ]
    }
   ],
   "source": [
    "print(today.day)\n",
    "print(today.month)\n",
    "print(today.year)"
   ]
  },
  {
   "cell_type": "markdown",
   "metadata": {},
   "source": [
    "<div class=\"alert alert-info\" role=\"alert\">\n",
    "    **Exercise:** Print curretn date in the format you prefer the most.\n",
    "</div>\n",
    "<div class=\"alert alert-info\" role=\"alert\">\n",
    "    **Exercise:** Print the names of days in week in any order and language. \n",
    "</div>"
   ]
  },
  {
   "cell_type": "code",
   "execution_count": 32,
   "metadata": {},
   "outputs": [
    {
     "name": "stdout",
     "output_type": "stream",
     "text": [
      "2018-03-27\n",
      "100 days ago it was Tuesday\n"
     ]
    }
   ],
   "source": [
    "previous_days = today - timedelta(days=100)\n",
    "print(previous_days)\n",
    "print('100 days ago it was', datetime.strftime(previous_days, '%A'))"
   ]
  },
  {
   "cell_type": "markdown",
   "metadata": {},
   "source": [
    "<div class=\"alert alert-info\" role=\"alert\">\n",
    "    **Exercise:** Calculate the day that is gonna be in two years from today.\n",
    "</div>"
   ]
  },
  {
   "cell_type": "code",
   "execution_count": 33,
   "metadata": {},
   "outputs": [
    {
     "name": "stdout",
     "output_type": "stream",
     "text": [
      "Hello,\n",
      "my name is Nikolina and I work in BaseTIS last 256.00 days.\n",
      "Regards,\n",
      "Nikolina - July 2018\n"
     ]
    }
   ],
   "source": [
    "print(\"\"\"Hello,\n",
    "my name is {name} and I work in {company} last {days:.2f} days.\n",
    "Regards,\n",
    "{name} - {date:%B %Y}\"\"\".format(name=\"Nikolina\", company=\"BaseTIS\", days=256, date=date.today() ))"
   ]
  },
  {
   "cell_type": "markdown",
   "metadata": {},
   "source": [
    "<a id='Set Theory in Python'></a>\n",
    "## Set Theory in Python\n",
    "* in python exist: sets, lists, tuples and dictionaries\n",
    "<a id='Sets'></a>\n",
    "\n",
    "### Sets\n",
    "* **Set** is a collection which is unordered and unindexed. No duplicate members.\n",
    "* A set is created by using the function **set()**."
   ]
  },
  {
   "cell_type": "code",
   "execution_count": 34,
   "metadata": {},
   "outputs": [],
   "source": [
    "my_set = set([2, 4, 6, 8, 10, 'word1', 'word2'])\n",
    "set_1 = set([1, 2, 3, 4, 5])\n",
    "set_2 = set([2, 4, 6, 8, 10])"
   ]
  },
  {
   "cell_type": "code",
   "execution_count": 36,
   "metadata": {},
   "outputs": [
    {
     "name": "stdout",
     "output_type": "stream",
     "text": [
      "{1, 2, 3, 4, 5}\n",
      "{2, 4, 6, 8, 10}\n",
      "--------------------\n",
      "Set 'set_1' has lenght 5 and set 'set_2' 5.\n"
     ]
    }
   ],
   "source": [
    "print(set_1)\n",
    "print(set_2)\n",
    "print('-'*20)\n",
    "print(\"\"\"Set 'set_1' has lenght {} and set 'set_2' {}.\"\"\".format(len(set_1), len(set_2)))"
   ]
  },
  {
   "cell_type": "code",
   "execution_count": 37,
   "metadata": {},
   "outputs": [
    {
     "name": "stdout",
     "output_type": "stream",
     "text": [
      "1\n",
      "2\n",
      "3\n",
      "4\n",
      "5\n",
      "--------------------\n",
      "[1, 2, 3, 4, 5]\n"
     ]
    }
   ],
   "source": [
    "for i in set_1:\n",
    "    print(i)\n",
    "    \n",
    "print('-'*20)    \n",
    "print([i for i in set_1])"
   ]
  },
  {
   "cell_type": "code",
   "execution_count": 39,
   "metadata": {},
   "outputs": [
    {
     "name": "stdout",
     "output_type": "stream",
     "text": [
      "[3, 4, 5]\n",
      "-----\n",
      "[1, 2, 'Not smaller then 3', 'Not smaller then 3', 'Not smaller then 3']\n"
     ]
    }
   ],
   "source": [
    "print([i for i in set_1 if i >= 3])\n",
    "\n",
    "print('-----')\n",
    "print([i if i < 3 else 'Not smaller then 3' for i in set_1])"
   ]
  },
  {
   "cell_type": "markdown",
   "metadata": {},
   "source": [
    "* Sets can be used to perform mathematical set operations like union, intersection, symmetric difference etc."
   ]
  },
  {
   "cell_type": "code",
   "execution_count": 40,
   "metadata": {},
   "outputs": [
    {
     "name": "stdout",
     "output_type": "stream",
     "text": [
      "Intersection: {2, 4}\n",
      "Difference between a and b: {1, 3, 5}\n",
      "Difference between b and a: {8, 10, 6}\n"
     ]
    }
   ],
   "source": [
    "print('Intersection:', set_1.intersection(set_2))\n",
    "print('Difference between a and b:', set_1.difference(set_2))\n",
    "print('Difference between b and a:', set_2.difference(set_1))"
   ]
  },
  {
   "cell_type": "markdown",
   "metadata": {},
   "source": [
    "<div class=\"alert alert-info\" role=\"alert\">\n",
    "    **Exercise:** Make a union with sets of your two favorite days in the week and months in the year  \n",
    "</div>"
   ]
  },
  {
   "cell_type": "markdown",
   "metadata": {},
   "source": [
    "<a id='Lists'></a>\n",
    "### Lists"
   ]
  },
  {
   "cell_type": "markdown",
   "metadata": {},
   "source": [
    "* **List** is a collection which is ordered and changeable. Allows duplicate members.\n",
    "* A list is created by using **list()** or **[** **]** brackets. "
   ]
  },
  {
   "cell_type": "code",
   "execution_count": 41,
   "metadata": {},
   "outputs": [
    {
     "name": "stdout",
     "output_type": "stream",
     "text": [
      "A\n",
      "B\n",
      "C\n",
      "D\n",
      "E\n",
      "F\n",
      "1\n",
      "2\n",
      "3\n"
     ]
    }
   ],
   "source": [
    "my_list = list('ABCDEF123')\n",
    "for elem in my_list:\n",
    "    print(elem)"
   ]
  },
  {
   "cell_type": "code",
   "execution_count": 42,
   "metadata": {},
   "outputs": [
    {
     "data": {
      "text/plain": [
       "['A', 'B', 'C', 'D', 'E', 'F', '1', '2', '3', 'Hola']"
      ]
     },
     "execution_count": 42,
     "metadata": {},
     "output_type": "execute_result"
    }
   ],
   "source": [
    "my_list.append('Hola')\n",
    "my_list"
   ]
  },
  {
   "cell_type": "code",
   "execution_count": 43,
   "metadata": {},
   "outputs": [
    {
     "data": {
      "text/plain": [
       "['B', 'C', 'D', 'E', 'F', '1', '2', '3', 'Hola']"
      ]
     },
     "execution_count": 43,
     "metadata": {},
     "output_type": "execute_result"
    }
   ],
   "source": [
    "del my_list[0]\n",
    "my_list"
   ]
  },
  {
   "cell_type": "code",
   "execution_count": 44,
   "metadata": {},
   "outputs": [
    {
     "data": {
      "text/plain": [
       "['a', 'C', 'D', 'E', 'F', '1', '2', '3', 'Hola']"
      ]
     },
     "execution_count": 44,
     "metadata": {},
     "output_type": "execute_result"
    }
   ],
   "source": [
    "my_list[0] = 'a'\n",
    "my_list"
   ]
  },
  {
   "cell_type": "code",
   "execution_count": 45,
   "metadata": {
    "scrolled": true
   },
   "outputs": [
    {
     "data": {
      "text/plain": [
       "9"
      ]
     },
     "execution_count": 45,
     "metadata": {},
     "output_type": "execute_result"
    }
   ],
   "source": [
    "len(my_list)"
   ]
  },
  {
   "cell_type": "markdown",
   "metadata": {},
   "source": [
    "<div class=\"alert alert-info\" role=\"alert\">\n",
    "    **Exercise:** Make a lilst with your favorite books, add to the list your favorite songs and sort it.\n",
    "</div>"
   ]
  },
  {
   "cell_type": "markdown",
   "metadata": {},
   "source": [
    "<a id='Dictionaries'></a>\n",
    "### Dictionaries"
   ]
  },
  {
   "cell_type": "markdown",
   "metadata": {},
   "source": [
    "* **Dictionary** is an element that associates a key with a value.\n",
    "* A dictionary is created by using **dic()** or **{** **}** brackets. "
   ]
  },
  {
   "cell_type": "code",
   "execution_count": 46,
   "metadata": {},
   "outputs": [
    {
     "data": {
      "text/plain": [
       "{'apple': 'green', 'banana': 'yellow', 'cherry': 'red'}"
      ]
     },
     "execution_count": 46,
     "metadata": {},
     "output_type": "execute_result"
    }
   ],
   "source": [
    "thisdict = {\n",
    "  \"apple\": \"green\",\n",
    "  \"banana\": \"yellow\",\n",
    "  \"cherry\": \"red\"\n",
    "}\n",
    "thisdict"
   ]
  },
  {
   "cell_type": "code",
   "execution_count": 47,
   "metadata": {},
   "outputs": [
    {
     "name": "stdout",
     "output_type": "stream",
     "text": [
      "0\n",
      "1\n",
      "2\n",
      "3\n",
      "4\n",
      "5\n"
     ]
    }
   ],
   "source": [
    "dictionary = {'a': 0, 'b': 1, 'c': 2, 'd': 3, 'e': 4, 'f': 5}\n",
    "for key in dictionary.keys():\n",
    "    print(dictionary[key])"
   ]
  },
  {
   "cell_type": "code",
   "execution_count": 48,
   "metadata": {},
   "outputs": [
    {
     "data": {
      "text/plain": [
       "dict_keys(['a', 'b', 'c', 'd', 'e', 'f'])"
      ]
     },
     "execution_count": 48,
     "metadata": {},
     "output_type": "execute_result"
    }
   ],
   "source": [
    "dictionary.keys()"
   ]
  },
  {
   "cell_type": "code",
   "execution_count": 49,
   "metadata": {},
   "outputs": [
    {
     "name": "stdout",
     "output_type": "stream",
     "text": [
      "{'a': 0, 'b': 1, 'c': 2, 'd': 3, 'e': 4, 'f': 5, 'g': 6}\n",
      "---------\n",
      "{'a': 0, 'b': 1, 'c': 2, 'd': 3, 'e': 4, 'f': 5, 'g': 6, 'h': 7}\n",
      "---------\n",
      "{'b': 1, 'c': 2, 'd': 3, 'e': 4, 'f': 5, 'g': 6, 'h': 7}\n",
      "---------\n",
      "7\n"
     ]
    }
   ],
   "source": [
    "dictionary['g'] = 6\n",
    "print(dictionary)\n",
    "\n",
    "print('---------')\n",
    "dictionary.update({'h' : 7})\n",
    "print(dictionary)\n",
    "\n",
    "print('---------')\n",
    "del dictionary['a']\n",
    "print(dictionary)\n",
    "\n",
    "print('---------')\n",
    "print(len(dictionary))"
   ]
  },
  {
   "cell_type": "markdown",
   "metadata": {},
   "source": [
    "<div class=\"alert alert-info\" role=\"alert\">\n",
    "    **Exercise:** Generate one dictionary and preform three operations on it. \n",
    "</div>"
   ]
  },
  {
   "cell_type": "markdown",
   "metadata": {},
   "source": [
    "<a id='Defining functions and classes'></a>\n",
    "## Defining functions and classes\n",
    "\n",
    "<a id='Functions'></a>\n",
    "### Functions\n",
    "\n",
    "* A **function** is a block of code which only runs when it is called.\n",
    "* You can pass data (parameter), into a function and function can return data as a result.\n",
    "* A function is defined using the **def** keyword."
   ]
  },
  {
   "cell_type": "code",
   "execution_count": 50,
   "metadata": {},
   "outputs": [],
   "source": [
    "def my_function(value):\n",
    "    if value == 0:\n",
    "        return 'Number is zero.'\n",
    "    elif value > 0:\n",
    "        return 'Number is positive.'\n",
    "    else:\n",
    "        return 'Number is negative.'"
   ]
  },
  {
   "cell_type": "code",
   "execution_count": 51,
   "metadata": {},
   "outputs": [
    {
     "data": {
      "text/plain": [
       "'Number is zero.'"
      ]
     },
     "execution_count": 51,
     "metadata": {},
     "output_type": "execute_result"
    }
   ],
   "source": [
    "my_function(0)"
   ]
  },
  {
   "cell_type": "code",
   "execution_count": 52,
   "metadata": {},
   "outputs": [
    {
     "data": {
      "text/plain": [
       "'Number is positive.'"
      ]
     },
     "execution_count": 52,
     "metadata": {},
     "output_type": "execute_result"
    }
   ],
   "source": [
    "my_function(10)"
   ]
  },
  {
   "cell_type": "code",
   "execution_count": 53,
   "metadata": {},
   "outputs": [
    {
     "data": {
      "text/plain": [
       "'Number is negative.'"
      ]
     },
     "execution_count": 53,
     "metadata": {},
     "output_type": "execute_result"
    }
   ],
   "source": [
    "my_function(-2)"
   ]
  },
  {
   "cell_type": "code",
   "execution_count": 55,
   "metadata": {},
   "outputs": [
    {
     "name": "stdout",
     "output_type": "stream",
     "text": [
      "I am from Sweden\n",
      "I am from Croatia\n",
      "I am from Spain\n",
      "I am from Germany\n"
     ]
    }
   ],
   "source": [
    "def my_function2(country=\"Spain\"):\n",
    "     print(\"I am from \" + country)\n",
    "\n",
    "my_function2(\"Sweden\")\n",
    "my_function2(\"Croatia\")\n",
    "my_function2()\n",
    "my_function2(\"Germany\")"
   ]
  },
  {
   "cell_type": "code",
   "execution_count": 57,
   "metadata": {},
   "outputs": [
    {
     "name": "stdout",
     "output_type": "stream",
     "text": [
      "Double: 22. Triple: 33\n"
     ]
    }
   ],
   "source": [
    "def my_function3(n):\n",
    "    return lambda i: i*n\n",
    "\n",
    "doubler = my_function3(2)\n",
    "tripler = my_function3(3)\n",
    "val = 11\n",
    "print('Double: {}. Triple: {}'.format(doubler(val), tripler(val)))"
   ]
  },
  {
   "cell_type": "markdown",
   "metadata": {},
   "source": [
    "* Find more information [here](https://www.w3schools.com/python/python_functions.asp)."
   ]
  },
  {
   "cell_type": "markdown",
   "metadata": {},
   "source": [
    "<div class=\"alert alert-info\" role=\"alert\">\n",
    "    **Exercise:** Generate one function.\n",
    "</div>\n",
    "\n",
    "<a id='Classes'></a>\n",
    "### Classes"
   ]
  },
  {
   "cell_type": "markdown",
   "metadata": {},
   "source": [
    "* The way of defining **classes** is also very similar.\n",
    "* It should be taken into account that all the definitions of interior functions of the class must carry **'this'** (or **'self'**) as the first parameter."
   ]
  },
  {
   "cell_type": "code",
   "execution_count": 58,
   "metadata": {},
   "outputs": [],
   "source": [
    "class My_first_class():\n",
    "    \n",
    "    def __init__(self):\n",
    "            #All classes have a function called __init__(), which is always executed when the class is being initiated.\n",
    "            #Use the __init__() function to assign values to object properties\n",
    "        self.class_id = 0\n",
    "        self.age = 0\n",
    "        self.tall = 0\n",
    "        self.name = '-'\n",
    "    \n",
    "    def add_values(self, new_id, new_age, new_tall, new_name):\n",
    "        self.class_id = 'id: ' + new_id + '; '\n",
    "        self.age = new_age +' years' + '; '\n",
    "        self.tall = new_tall + ' m' + '; '\n",
    "        self.name = new_name\n",
    "        \n",
    "    def change_name(self, value):\n",
    "        self.name = value\n",
    "        \n",
    "    def print_class(self):\n",
    "        print(self.class_id, self.age, self.tall, self.name)"
   ]
  },
  {
   "cell_type": "markdown",
   "metadata": {},
   "source": [
    "* Next we use the elements of the class."
   ]
  },
  {
   "cell_type": "code",
   "execution_count": 59,
   "metadata": {
    "scrolled": true
   },
   "outputs": [
    {
     "name": "stdout",
     "output_type": "stream",
     "text": [
      "0 0 0 -\n",
      "----\n",
      "id: 12345;  50 years;  1.6 m;  Antonio\n",
      "----\n",
      "id: 10;  25 years;  1.7 m;  José\n"
     ]
    }
   ],
   "source": [
    "example = My_first_class()\n",
    "example.print_class()\n",
    "\n",
    "print('----')\n",
    "example.add_values('12345', '50', '1.6', 'Antonio')\n",
    "example.print_class()\n",
    "print('----')\n",
    "example.add_values('10', '25', '1.7', 'Marco')\n",
    "example.change_name('José')\n",
    "example.print_class()"
   ]
  },
  {
   "cell_type": "markdown",
   "metadata": {},
   "source": [
    "* Find more information [here](https://www.w3schools.com/python/python_classes.asp).\n",
    "\n",
    "<div class=\"alert alert-info\" role=\"alert\">\n",
    "    **Exercise:**  Invent one class that contains more than three local variables. \n",
    "</div>"
   ]
  },
  {
   "cell_type": "code",
   "execution_count": null,
   "metadata": {},
   "outputs": [],
   "source": []
  }
 ],
 "metadata": {
  "kernelspec": {
   "display_name": "Python 3",
   "language": "python",
   "name": "python3"
  },
  "language_info": {
   "codemirror_mode": {
    "name": "ipython",
    "version": 3
   },
   "file_extension": ".py",
   "mimetype": "text/x-python",
   "name": "python",
   "nbconvert_exporter": "python",
   "pygments_lexer": "ipython3",
   "version": "3.6.3"
  }
 },
 "nbformat": 4,
 "nbformat_minor": 2
}
